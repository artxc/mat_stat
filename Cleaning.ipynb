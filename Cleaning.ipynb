{
 "cells": [
  {
   "cell_type": "code",
   "execution_count": 1,
   "metadata": {
    "collapsed": true
   },
   "outputs": [],
   "source": [
    "import pandas as pd\n",
    "import numpy as np\n",
    "import matplotlib.pyplot as plt"
   ]
  },
  {
   "cell_type": "code",
   "execution_count": 114,
   "metadata": {
    "collapsed": true
   },
   "outputs": [],
   "source": [
    "df = pd.read_csv(\"seeds_dataset.txt\", header = None)"
   ]
  },
  {
   "cell_type": "code",
   "execution_count": 115,
   "metadata": {},
   "outputs": [
    {
     "data": {
      "text/html": [
       "<div>\n",
       "<style>\n",
       "    .dataframe thead tr:only-child th {\n",
       "        text-align: right;\n",
       "    }\n",
       "\n",
       "    .dataframe thead th {\n",
       "        text-align: left;\n",
       "    }\n",
       "\n",
       "    .dataframe tbody tr th {\n",
       "        vertical-align: top;\n",
       "    }\n",
       "</style>\n",
       "<table border=\"1\" class=\"dataframe\">\n",
       "  <thead>\n",
       "    <tr style=\"text-align: right;\">\n",
       "      <th></th>\n",
       "      <th>0</th>\n",
       "      <th>1</th>\n",
       "      <th>2</th>\n",
       "      <th>3</th>\n",
       "      <th>4</th>\n",
       "      <th>5</th>\n",
       "      <th>6</th>\n",
       "      <th>7</th>\n",
       "    </tr>\n",
       "  </thead>\n",
       "  <tbody>\n",
       "    <tr>\n",
       "      <th>0</th>\n",
       "      <td>15.26</td>\n",
       "      <td>14.84</td>\n",
       "      <td>0.8710</td>\n",
       "      <td>5.763</td>\n",
       "      <td>3.312</td>\n",
       "      <td>2.221</td>\n",
       "      <td>5.220</td>\n",
       "      <td>1</td>\n",
       "    </tr>\n",
       "    <tr>\n",
       "      <th>1</th>\n",
       "      <td>14.88</td>\n",
       "      <td>14.57</td>\n",
       "      <td>0.8811</td>\n",
       "      <td>5.554</td>\n",
       "      <td>3.333</td>\n",
       "      <td>1.018</td>\n",
       "      <td>4.956</td>\n",
       "      <td>1</td>\n",
       "    </tr>\n",
       "    <tr>\n",
       "      <th>2</th>\n",
       "      <td>14.29</td>\n",
       "      <td>14.09</td>\n",
       "      <td>0.9050</td>\n",
       "      <td>5.291</td>\n",
       "      <td>3.337</td>\n",
       "      <td>2.699</td>\n",
       "      <td>4.825</td>\n",
       "      <td>1</td>\n",
       "    </tr>\n",
       "    <tr>\n",
       "      <th>3</th>\n",
       "      <td>13.84</td>\n",
       "      <td>13.94</td>\n",
       "      <td>0.8955</td>\n",
       "      <td>5.324</td>\n",
       "      <td>3.379</td>\n",
       "      <td>2.259</td>\n",
       "      <td>4.805</td>\n",
       "      <td>1</td>\n",
       "    </tr>\n",
       "    <tr>\n",
       "      <th>4</th>\n",
       "      <td>16.14</td>\n",
       "      <td>14.99</td>\n",
       "      <td>0.9034</td>\n",
       "      <td>5.658</td>\n",
       "      <td>3.562</td>\n",
       "      <td>1.355</td>\n",
       "      <td>5.175</td>\n",
       "      <td>1</td>\n",
       "    </tr>\n",
       "  </tbody>\n",
       "</table>\n",
       "</div>"
      ],
      "text/plain": [
       "       0      1       2      3      4      5      6  7\n",
       "0  15.26  14.84  0.8710  5.763  3.312  2.221  5.220  1\n",
       "1  14.88  14.57  0.8811  5.554  3.333  1.018  4.956  1\n",
       "2  14.29  14.09  0.9050  5.291  3.337  2.699  4.825  1\n",
       "3  13.84  13.94  0.8955  5.324  3.379  2.259  4.805  1\n",
       "4  16.14  14.99  0.9034  5.658  3.562  1.355  5.175  1"
      ]
     },
     "execution_count": 115,
     "metadata": {},
     "output_type": "execute_result"
    }
   ],
   "source": [
    "df.head()"
   ]
  },
  {
   "cell_type": "code",
   "execution_count": 116,
   "metadata": {
    "scrolled": false
   },
   "outputs": [
    {
     "name": "stdout",
     "output_type": "stream",
     "text": [
      "Стандартное отклонение\n",
      "0    2.909699\n",
      "1    1.305959\n",
      "2    0.023629\n",
      "3    0.443063\n",
      "4    0.377714\n",
      "5    1.503557\n",
      "6    0.491480\n",
      "7    0.818448\n",
      "dtype: float64\n"
     ]
    }
   ],
   "source": [
    "print(\"Стандартное отклонение\", df.std(), sep='\\n')"
   ]
  },
  {
   "cell_type": "code",
   "execution_count": 117,
   "metadata": {
    "scrolled": false
   },
   "outputs": [
    {
     "name": "stdout",
     "output_type": "stream",
     "text": [
      "Дисперсия\n",
      "0    8.466351\n",
      "1    1.705528\n",
      "2    0.000558\n",
      "3    0.196305\n",
      "4    0.142668\n",
      "5    2.260684\n",
      "6    0.241553\n",
      "7    0.669856\n",
      "dtype: float64\n"
     ]
    }
   ],
   "source": [
    "print(\"Дисперсия\", df.var(), sep='\\n')"
   ]
  },
  {
   "cell_type": "code",
   "execution_count": 118,
   "metadata": {
    "scrolled": false
   },
   "outputs": [
    {
     "name": "stdout",
     "output_type": "stream",
     "text": [
      "Среднее\n",
      "0    14.847524\n",
      "1    14.559286\n",
      "2     0.870999\n",
      "3     5.628533\n",
      "4     3.258605\n",
      "5     3.700201\n",
      "6     5.408071\n",
      "7     2.000000\n",
      "dtype: float64\n"
     ]
    }
   ],
   "source": [
    "print(\"Среднее\", df.mean(), sep='\\n')"
   ]
  },
  {
   "cell_type": "code",
   "execution_count": 119,
   "metadata": {},
   "outputs": [
    {
     "data": {
      "image/png": "[encoded data removed]",
      "text/plain": [
       "<matplotlib.figure.Figure at 0x1b9f2f81940>"
      ]
     },
     "metadata": {},
     "output_type": "display_data"
    }
   ],
   "source": [
    "plt.figure(figsize=(15,8))\n",
    "plt.plot(df.loc[df[7] == 1][2], df.loc[df[7] == 1][5], 'ro',\n",
    "        df.loc[df[7] == 2][2], df.loc[df[7] == 2][5], 'bs',\n",
    "        df.loc[df[7] == 3][2], df.loc[df[7] == 3][5], 'g^')\n",
    "plt.show()"
   ]
  },
  {
   "cell_type": "code",
   "execution_count": 120,
   "metadata": {
    "scrolled": true
   },
   "outputs": [
    {
     "name": "stdout",
     "output_type": "stream",
     "text": [
      "Выбросы по 2-му признаку:\n",
      "         0      1       2      3      4      5      6  7\n",
      "149  10.79  12.93  0.8107  5.317  2.648  5.462  5.194  3\n",
      "157  12.13  13.73  0.8081  5.394  2.745  4.825  5.220  3\n",
      "158  11.75  13.52  0.8082  5.444  2.678  4.378  5.310  3\n",
      "174  10.83  12.96  0.8099  5.278  2.641  5.182  5.185  3\n",
      "\n",
      "Выбросы по 5-му признаку:\n",
      "         0      1       2      3      4      5      6  7\n",
      "188  11.23  12.82  0.8594  5.089  2.821  7.524  4.957  3\n",
      "203  12.70  13.41  0.8874  5.183  3.091  8.456  5.000  3\n",
      "207  13.20  13.66  0.8883  5.236  3.232  8.315  5.056  3\n",
      "\n"
     ]
    }
   ],
   "source": [
    "for i in range(df.shape[1] - 1):\n",
    "    if not df[np.abs(df.mean()[i]-df[i]) > 2.5*df.std()[i]].empty:\n",
    "        print(\"Выбросы по {}-му признаку:\\n\".format(i),df[np.abs(df.mean()[i]-df[i]) > 2.5*df.std()[i]],'\\n',sep='')\n",
    "    df.loc[np.abs(df.mean()[i]-df[i]) > 3*df.std()[i], i] = df.mean()[i] "
   ]
  },
  {
   "cell_type": "code",
   "execution_count": 121,
   "metadata": {
    "scrolled": true
   },
   "outputs": [
    {
     "data": {
      "image/png": "[encoded data removed]",
      "text/plain": [
       "<matplotlib.figure.Figure at 0x1b9f36c9748>"
      ]
     },
     "metadata": {},
     "output_type": "display_data"
    }
   ],
   "source": [
    "plt.figure(figsize=(15,8))\n",
    "plt.title(\"После удаления выбросов и аппроксимации\")\n",
    "plt.plot(df.loc[df[7] == 1][2], df.loc[df[7] == 1][5], 'ro',\n",
    "        df.loc[df[7] == 2][2], df.loc[df[7] == 2][5], 'bs',\n",
    "        df.loc[df[7] == 3][2], df.loc[df[7] == 3][5], 'g^')\n",
    "plt.show()"
   ]
  }
 ],
 "metadata": {
  "kernelspec": {
   "display_name": "Python 3",
   "language": "python",
   "name": "python3"
  },
  "language_info": {
   "codemirror_mode": {
    "name": "ipython",
    "version": 3
   },
   "file_extension": ".py",
   "mimetype": "text/x-python",
   "name": "python",
   "nbconvert_exporter": "python",
   "pygments_lexer": "ipython3",
   "version": "3.6.1"
  }
 },
 "nbformat": 4,
 "nbformat_minor": 2
}
